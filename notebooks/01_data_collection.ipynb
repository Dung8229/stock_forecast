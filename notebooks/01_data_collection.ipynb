{
 "cells": [
  {
   "cell_type": "code",
   "execution_count": 1,
   "id": "d9930ccc-4ed6-45bf-bdc7-94a7eaaf5579",
   "metadata": {},
   "outputs": [],
   "source": [
    "import numpy as np\n",
    "import pandas as pd\n",
    "import matplotlib.pyplot as plt\n",
    "from pathlib import Path\n",
    "\n",
    "import yfinance as yf\n",
    "import ta\n",
    "from tqdm import tqdm\n",
    "\n",
    "import warnings\n",
    "warnings.simplefilter(action='ignore', category=FutureWarning)"
   ]
  },
  {
   "cell_type": "code",
   "execution_count": 2,
   "id": "cc79f12d-ad15-45aa-a593-8d9b5378bc28",
   "metadata": {},
   "outputs": [],
   "source": [
    "tickers = [\"MSFT\", \"AAPL\", \"TSLA\", \"GOOGL\", \"AMZN\", \"NVDA\"]"
   ]
  },
  {
   "cell_type": "markdown",
   "id": "b7081701-1733-4269-8a44-9054a596dea7",
   "metadata": {},
   "source": [
    "# Company Information"
   ]
  },
  {
   "cell_type": "code",
   "execution_count": null,
   "id": "413ff666-4ddf-4d6e-bd3b-3f40cd3c5c3b",
   "metadata": {},
   "outputs": [],
   "source": []
  }
 ],
 "metadata": {
  "kernelspec": {
   "display_name": "Python 3 (ipykernel)",
   "language": "python",
   "name": "python3"
  },
  "language_info": {
   "codemirror_mode": {
    "name": "ipython",
    "version": 3
   },
   "file_extension": ".py",
   "mimetype": "text/x-python",
   "name": "python",
   "nbconvert_exporter": "python",
   "pygments_lexer": "ipython3",
   "version": "3.10.16"
  }
 },
 "nbformat": 4,
 "nbformat_minor": 5
}
